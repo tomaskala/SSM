{
 "cells": [
  {
   "cell_type": "markdown",
   "metadata": {},
   "source": [
    "# Lorenz system"
   ]
  },
  {
   "cell_type": "markdown",
   "metadata": {},
   "source": [
    "## The problem\n",
    "* When the inference process is started at true parameter values, the results are as nice as they can be -- the trace plot is nice and fluffy and centered more or less around the true parameters.\n",
    "* When the starting parameters are very slightly different from the true ones (though so slightly that they are almost equal), the results are still nice.\n",
    "* When they are too different, then:\n",
    "    * If the model is well-specified, i.e., the particle filter uses the correct measurement model, the estimates relatively quickly (after about 15000 iterations) converge to the true values and refuse to move at all. This is striking, because one would expect that once the truth has been reached, trace plot fluffiness as above would be observed. No fluffy plots though.\n",
    "    * If the model is misspecified, the estimates converge to some incorrect value and again refuse to move from it."
   ]
  },
  {
   "cell_type": "markdown",
   "metadata": {},
   "source": [
    "## Model summary"
   ]
  },
  {
   "cell_type": "markdown",
   "metadata": {},
   "source": [
    "We are working with a Lorenz system model found in https://projecteuclid.org/euclid.bj/1522051233, section 6. The implementation can be found at https://github.com/tomaskala/SSM/, see https://github.com/tomaskala/SSM/blob/master/ssm/mcmc.py for the actual inference algorithms and https://github.com/tomaskala/SSM/blob/master/ssm/lorenz_system.py for the model specification.\n",
    "\n",
    "* The unknown parameters are $\\boldsymbol{\\theta} = \\left( S, R, B, k_o \\right)^\\intercal$.\n",
    "* The state at time $t$ is $\\boldsymbol{X}_t = \\left( X_{1,t}, X_{2,t}, X_{3,t} \\right)^\\intercal$.\n",
    "* The observation vector at time $t$ is $\\boldsymbol{T}_t = \\left( Y_{1,t}, Y_{3,t} \\right)^\\intercal$.\n",
    "\n",
    "The transition model uses a discrete-time version of some nasty stochastic differential equation. The integration step is denoted $T_e > 0$.\n",
    "\n",
    "\\begin{equation}\n",
    "\\begin{split}\n",
    "X_{1,t} &= X_{1,t-1} - T_e S \\left( X_{1,t-1} - X_{2,t-1} \\right) + \\sqrt{T_e} U_{1,t}, \\\\\n",
    "X_{2,t} &= X_{2,t-1} + T_e \\left( R X_{1,t-1} - X_{2,t-1} - X_{1,t-1} X_{3,t-1} \\right) + \\sqrt{T_e} U_{2,t}, \\\\\n",
    "X_{3,t} &= X_{3,t-1} + T_e \\left( X_{1,t-1} X_{2,t-1} - B X_{3,t-1} \\right) + \\sqrt{T_e} U_{3,t}, \\\\\n",
    "\\end{split}\n",
    "\\end{equation}\n",
    "\n",
    "where $U_{i,t} \\sim \\text{N}\\left(0,1\\right),\\ i = 1, 2, 3,\\ t = 1, 2, \\ldots$.\n",
    "\n",
    "The system is observed every 40 discrete time steps,\n",
    "\n",
    "\\begin{equation}\n",
    "\\begin{split}\n",
    "Y_{1,t} &= k_o X_{1,40t} + V_{1,t}, \\\\\n",
    "Y_{3,t} &= k_o X_{3,40t} + V_{3,t}, \\\\\n",
    "\\end{split}\n",
    "\\end{equation}\n",
    "\n",
    "where $V_{i,t} \\sim \\text{N}\\left(0,\\frac{1}{10}\\right),\\ i = 1, 3,\\ t = 1, 2, \\ldots$."
   ]
  },
  {
   "cell_type": "markdown",
   "metadata": {},
   "source": [
    "A particle filter-based model is shown below."
   ]
  },
  {
   "cell_type": "code",
   "execution_count": null,
   "metadata": {},
   "outputs": [],
   "source": [
    "# VARIABLE NAMES vs. SYMBOLS ABOVE\n",
    "# observation_period = 40 (how often are Y_t observed from X_t)\n",
    "# observation_variance = 1/10 (variance of V_{i,t})\n",
    "# x = X_t, shape: (n_particles, 3)\n",
    "# y = Y_t, shape: (2,)\n",
    "# T = T_e\n",
    "# k = k_o\n",
    "class ParticleLorenzSystem(MetropolisHastingsPF):\n",
    "    def _transition(self, x: np.ndarray, t: int, theta: np.ndarray) -> np.ndarray:\n",
    "        observation_period = self.const[\"observation_period\"]\n",
    "        T = self.const[\"T\"]\n",
    "        sqrt_T = np.sqrt(T)\n",
    "        S = theta[0]\n",
    "        R = theta[1]\n",
    "        B = theta[2]\n",
    "\n",
    "        for _ in range(observation_period):\n",
    "            out = np.empty_like(x)\n",
    "            U = self.random_state.normal(size=x.shape)\n",
    "            out[:, 0] = x[:, 0] - T * S * (x[:, 0] - x[:, 1]) + sqrt_T * U[:, 0]\n",
    "            out[:, 1] = (\n",
    "                x[:, 1] + T * (R * x[:, 0] - x[:, 1] - x[:, 0] * x[:, 2]) + sqrt_T * U[:, 1]\n",
    "            )\n",
    "            out[:, 2] = x[:, 2] + T * (x[:, 0] * x[:, 1] - B * x[:, 2]) + sqrt_T * U[:, 2]\n",
    "            x = out\n",
    "\n",
    "        assert out.shape == x.shape\n",
    "        return out\n",
    "\n",
    "    def _observation_log_prob(\n",
    "        self, y: np.ndarray, x: np.ndarray, theta: np.ndarray\n",
    "    ) -> np.ndarray:\n",
    "        k = theta[3]\n",
    "        var = self.const[\"observation_variance\"]\n",
    "\n",
    "        mean0 = k * x[:, 0]\n",
    "        mean2 = k * x[:, 2]\n",
    "\n",
    "        mean = np.c_[mean0, mean2]\n",
    "        assert mean.shape == (self.n_particles, 2)\n",
    "\n",
    "        out = np.sum(stats.norm.logpdf(y, loc=mean, scale=np.sqrt(var)), axis=1)\n",
    "        assert out.shape == (self.n_particles,)\n",
    "\n",
    "        return out"
   ]
  },
  {
   "cell_type": "markdown",
   "metadata": {},
   "source": [
    "Similarly, an ABC-based model whose measurement model disregards the noise terms $V_{i,t}$ is as follows."
   ]
  },
  {
   "cell_type": "code",
   "execution_count": null,
   "metadata": {},
   "outputs": [],
   "source": [
    "class ABCLorenzSystem(MetropolisHastingsABC):\n",
    "    def _transition(self, x: np.ndarray, t: int, theta: np.ndarray) -> np.ndarray:\n",
    "        observation_period = self.const[\"observation_period\"]\n",
    "        T = self.const[\"T\"]\n",
    "        sqrt_T = np.sqrt(T)\n",
    "        S = theta[0]\n",
    "        R = theta[1]\n",
    "        B = theta[2]\n",
    "\n",
    "        for _ in range(observation_period):\n",
    "            out = np.empty_like(x)\n",
    "            U = self.random_state.normal(size=x.shape)\n",
    "            out[:, 0] = x[:, 0] - T * S * (x[:, 0] - x[:, 1]) + sqrt_T * U[:, 0]\n",
    "            out[:, 1] = (\n",
    "                x[:, 1] + T * (R * x[:, 0] - x[:, 1] - x[:, 0] * x[:, 2]) + sqrt_T * U[:, 1]\n",
    "            )\n",
    "            out[:, 2] = x[:, 2] + T * (x[:, 0] * x[:, 1] - B * x[:, 2]) + sqrt_T * U[:, 2]\n",
    "            x = out\n",
    "\n",
    "        assert out.shape == x.shape\n",
    "        return out\n",
    "\n",
    "    def _measurement_model(self, x: np.ndarray, theta: np.ndarray) -> np.array:\n",
    "        k = theta[3]\n",
    "        var = self.const[\"observation_variance\"]\n",
    "\n",
    "        mean0 = k * x[:, 0]\n",
    "        mean2 = k * x[:, 2]\n",
    "\n",
    "        mean = np.c_[mean0, mean2]\n",
    "        assert mean.shape == (self.n_particles, 2)\n",
    "\n",
    "        return mean"
   ]
  },
  {
   "cell_type": "markdown",
   "metadata": {},
   "source": [
    "The prior distributions over $\\boldsymbol{\\theta}$ are all uniform:\n",
    "\n",
    "\\begin{equation}\n",
    "\\begin{split}\n",
    "S &\\sim \\text{U}\\left( 5, 20 \\right) \\\\\n",
    "R &\\sim \\text{U}\\left( 18, 50 \\right) \\\\\n",
    "B &\\sim \\text{U}\\left( 1, 8 \\right) \\\\\n",
    "k_o &\\sim \\text{U}\\left( 0.5, 3 \\right) \\\\\n",
    "\\end{split}\n",
    "\\end{equation}\n",
    "\n",
    "The prior distribution over the state vector at $t=0$ is $\\boldsymbol{X}_0 \\sim \\text{N}_3 \\left( \\boldsymbol{X}_*, 10 \\boldsymbol{I}_3 \\right)$, where $\\boldsymbol{X}_* = \\left( -5.91652, -5.52332, 24.5723 \\right)^\\intercal$ is some funky value the authors claim comes from a typical run of the algorithm.\n",
    "\n",
    "Denoting the truncated normal distribution with mean $\\mu$, variance $\\sigma^2$ and truncation interval $\\left(a, b\\right)$ by $\\text{TN}\\left( \\mu, \\sigma^2, a, b \\right)$, the transition kernels are\n",
    "\n",
    "\\begin{equation}\n",
    "\\begin{split}\n",
    "S &: \\text{TN}\\left( \\cdot, \\sigma^2_S, 5, 20 \\right), \\\\\n",
    "R &: \\text{TN}\\left( \\cdot, \\sigma^2_R, 18, 50 \\right), \\\\\n",
    "B &: \\text{TN}\\left( \\cdot, \\sigma^2_B, 1, 8 \\right), \\\\\n",
    "k_o &: \\text{TN}\\left( \\cdot, \\sigma^2_{k_o}, 0.5, 3 \\right), \\\\\n",
    "\\end{split}\n",
    "\\end{equation}\n",
    "\n",
    "whose means are the previous values of the corresponding parameters in the Metropolis-Hastings algorithm. The variances are set to\n",
    "\n",
    "\\begin{equation}\n",
    "\\left(\\sigma^2_S, \\sigma^2_R, \\sigma^2_B, \\sigma^2_{k_o} \\right)^\\intercal = \\frac{1}{N^{3/2}} \\left( 60, 60, 10, 1 \\right)^\\intercal,\n",
    "\\end{equation}\n",
    "\n",
    "where $N = 300$ is the number of particles. The paper shows that dividing by $N^{3/2}$ is in some sense optimal, and the numbers in the parentheses are set so that parameters with bigger supports have roughly bigger variances."
   ]
  },
  {
   "cell_type": "markdown",
   "metadata": {},
   "source": [
    "The kernel densities are plotted below. Note that the truncation bounds $\\left(a, b\\right)$ are not rescaled according to the variances (by subtracting the mean -- here 0 -- and dividing by standard deviation) because most of the kernels would disappear from the plot for being too narrow. It is done during the computations however, since SciPy does not bother to do this automatically."
   ]
  },
  {
   "cell_type": "code",
   "execution_count": 24,
   "metadata": {},
   "outputs": [
    {
     "name": "stderr",
     "output_type": "stream",
     "text": [
      "/home/tomas/anaconda3/lib/python3.7/site-packages/ipykernel_launcher.py:22: UserWarning: Matplotlib is currently using module://ipykernel.pylab.backend_inline, which is a non-GUI backend, so cannot show the figure.\n"
     ]
    },
    {
     "data": {
      "image/png": "[encoded data removed]",
      "text/plain": [
       "<Figure size 1152x720 with 1 Axes>"
      ]
     },
     "metadata": {
      "needs_background": "light"
     },
     "output_type": "display_data"
    }
   ],
   "source": [
    "import matplotlib.pyplot as plt\n",
    "import numpy as np\n",
    "from scipy import stats\n",
    "\n",
    "n_particles = 300\n",
    "params = [\"$S$\", \"$R$\", \"$B$\", \"$k_o$\"]\n",
    "lower = np.array([5, 18, 1, 0.5])\n",
    "upper = np.array([20, 50, 8, 3])\n",
    "variances = np.array([60, 60, 10, 1]) / (n_particles ** (3 / 2))\n",
    "\n",
    "fig, ax = plt.subplots(1, figsize=(16, 10))\n",
    "x = np.linspace(0, 3, 1000)\n",
    "\n",
    "for p, a, b, v in zip(params, lower, upper, variances):\n",
    "    scale = np.sqrt(v)\n",
    "    tn = stats.truncnorm(loc=0, scale=scale, a=a, b=b)\n",
    "    \n",
    "    ax.plot(x, tn.pdf(x), label=p)\n",
    "\n",
    "ax.set_title(\"Transition kernels\")\n",
    "ax.legend()\n",
    "fig.show()"
   ]
  },
  {
   "cell_type": "markdown",
   "metadata": {},
   "source": [
    "Some additional details, all exactly as in the paper.\n",
    "\n",
    "* The experiments are performed using 600 observations, meaning 600*40 = 24000 time steps (since an observation is taken only every 40th time step), exactly as in the paper.\n",
    "    * In the GitHub repo, there are 100 observations, but this value was changed before running the script on cluster.\n",
    "* The number of particles is $N = 300$.\n",
    "* The data are simulated from true values $\\boldsymbol{\\theta} = \\left( 10, 28, 8/3, 4/5 \\right)^\\intercal$.\n",
    "* The initial $\\boldsymbol{\\theta}_0$ for the inference process is obtained by corrupting the components of the true $\\boldsymbol{\\theta}$ by a zero-centered truncated-normal noise, where the truncation intervals are exactly the same as the prior distributions.\n",
    "    * On cluster, the scale of this corruption distribution was set to 5. This led to poor results.\n",
    "    * At least on my machine when limited to 100 observations and 10000 iterations, scales up to 2 led to nice results, but this is simply because the starting values were not far from the true ones."
   ]
  },
  {
   "cell_type": "markdown",
   "metadata": {},
   "source": [
    "## Relevant code pieces\n",
    "All found in https://github.com/tomaskala/SSM/blob/master/ssm/mcmc.py, though they have been slightly edited to make more sense out of context."
   ]
  },
  {
   "cell_type": "markdown",
   "metadata": {},
   "source": [
    "### Metropolis-Hastings"
   ]
  },
  {
   "cell_type": "code",
   "execution_count": 1,
   "metadata": {},
   "outputs": [],
   "source": [
    "def do_inference(self, y):  # `y` is the sequence of observations.\n",
    "    theta = ...  # Initialize to `\\theta_0` as described above.\n",
    "\n",
    "    thetas = np.zeros(shape=(n_samples, theta.shape[0]), dtype=float)\n",
    "    loglik = -1e99\n",
    "\n",
    "    for i in range(n_samples):\n",
    "        theta_prop = proposal.sample(theta)\n",
    "        log_ratio = 0.0\n",
    "\n",
    "        log_ratio += prior.log_prob(theta_prop)\n",
    "        log_ratio -= prior.log_prob(theta)\n",
    "\n",
    "        log_ratio += proposal.log_prob(theta, theta_prop)\n",
    "        log_ratio -= proposal.log_prob(theta_prop, theta)\n",
    "\n",
    "        loglik_prop = log_likelihood_estimate(y, theta_prop)  # Either of the two functions given below (particle or ABC).\n",
    "        log_ratio += loglik_prop\n",
    "        log_ratio -= loglik\n",
    "\n",
    "        if math.log(rand()) < log_ratio:\n",
    "            theta = theta_prop\n",
    "            loglik = loglik_prop\n",
    "\n",
    "        thetas[i] = theta\n",
    "\n",
    "    return thetas"
   ]
  },
  {
   "cell_type": "markdown",
   "metadata": {},
   "source": [
    "### Particle filter-based likelihood estimate"
   ]
  },
  {
   "cell_type": "code",
   "execution_count": null,
   "metadata": {},
   "outputs": [],
   "source": [
    "# This function uses the particle filter to estimate the log-likelihood, as described\n",
    "# for example in Schoen's paper at http://user.it.uu.se/~thosc112/schonsml2017.pdf.\n",
    "def log_likelihood_estimate(self, y, theta):\n",
    "    x = ...  # The initial state `x_0` expanded to shape (n_particles, x_shape).\n",
    "\n",
    "    assert x.ndim == 2 and x.shape[0] == n_particles\n",
    "    T = y.shape[0]  # Number of observations.\n",
    "    x_dim = x.shape[1]\n",
    "    loglik = 0.0\n",
    "\n",
    "    for t in range(T):\n",
    "        # Perform transition.\n",
    "        x = self._transition(x, t + 1, theta)  # Defined in the `ParticleLorenzSystem` class above.\n",
    "        assert x.ndim == 2 and x.shape == (self.n_particles, x_dim)\n",
    "\n",
    "        # Evaluate the observation log probability.\n",
    "        lw = self._observation_log_prob(y[t], x, theta)  # Defined in the `ParticleLorenzSystem` class above.\n",
    "        assert lw.ndim == 1 and lw.shape == (self.n_particles,)\n",
    "        loglik += logsumexp(lw)\n",
    "\n",
    "        # Multinomial resampling.\n",
    "        rows = self.random_state.choice(\n",
    "            n_particles, n_particles, replace=True, p=softmax(lw)\n",
    "        )\n",
    "        x = x[rows]\n",
    "\n",
    "    # Equation (32) from Schoen's paper in the log domain.\n",
    "    loglik -= T * math.log(self.n_particles)\n",
    "    return loglik"
   ]
  },
  {
   "cell_type": "markdown",
   "metadata": {},
   "source": [
    "### ABC-based likelihood estimate"
   ]
  },
  {
   "cell_type": "code",
   "execution_count": null,
   "metadata": {},
   "outputs": [],
   "source": [
    "# This function uses the ABC filter to estimate the log-likelihood.\n",
    "# It comes with a bunch of utility functions.\n",
    "def _log_likelihood_estimate(self, y, theta):\n",
    "    x = ...  # The initial state `x_0` expanded to shape (n_particles, x_shape).\n",
    "\n",
    "    assert x.ndim == 2 and x.shape[0] == self.n_particles\n",
    "    T = y.shape[0]  # Number of observations.\n",
    "    x_dim = x.shape[1]\n",
    "    loglik = 0.0\n",
    "\n",
    "    for t in range(T):\n",
    "        # Perform transition.\n",
    "        x = self._transition(x, t + 1, theta)  # Defined in the `ABCLorenzSystem` class above.\n",
    "        assert x.ndim == 2 and x.shape == (self.n_particles, x_dim)\n",
    "\n",
    "        # Calculate pseudo-observations.\n",
    "        u = self._measurement_model(x, theta)  # Defined in the `ABCLorenzSystem` class above.\n",
    "        assert (u.ndim == 1 and u.shape == (self.n_particles,)) or (\n",
    "            u.ndim == 2 and u.shape == (self.n_particles, y.shape[1])\n",
    "        )\n",
    "\n",
    "        u_alpha = alphath_closest(u=u, y_t=y[t])  # Defined below.\n",
    "        assert (y.ndim == 1 and isinstance(u_alpha, numbers.Number)) or (\n",
    "            y.ndim == 2 and u_alpha.shape == (y.shape[1],)\n",
    "        )\n",
    "        tune_kernel_scales(u_alpha=u_alpha, y_t=y[t])  # Defined below.\n",
    "\n",
    "        lw = evaluate_kernel(u=u, y_t=y[t])  # Defined below.\n",
    "\n",
    "        if np.any(np.isnan(lw)) or np.any(np.isinf(lw)):\n",
    "            continue\n",
    "\n",
    "        assert lw.ndim == 1 and lw.shape == (self.n_particles,)\n",
    "        loglik += logsumexp(lw)\n",
    "\n",
    "        # Multinomial resampling.\n",
    "        rows = self.random_state.choice(\n",
    "            self.n_particles, self.n_particles, replace=True, p=softmax(lw)\n",
    "        )\n",
    "        x = x[rows]\n",
    "\n",
    "    # Equation (32) from Schoen's paper in the log domain.\n",
    "    loglik -= T * math.log(self.n_particles)\n",
    "    return loglik\n",
    "\n",
    "\n",
    "def alphath_closest(self, u, y_t):\n",
    "    # Alpha denotes the number of pseudo-measurements covered by the p-HPR of the kernel. However,\n",
    "    # indexing is 0-based, so we subtract 1 to get the alphath closest pseudo-measurement to y.\n",
    "    if isinstance(self.kernel, Kernel):\n",
    "        # Univariate observations -> single kernel.\n",
    "        dists = np.abs(u - y_t)\n",
    "        alphath_closest_idx = np.argpartition(\n",
    "            dists, kth=self.n_particles_covered - 1, axis=-1\n",
    "        )[self.n_particles_covered - 1]\n",
    "        return u[alphath_closest_idx]\n",
    "    else:\n",
    "        # Multivariate observations -> one kernel per y-dimension.\n",
    "        dists = np.abs(u - y_t[np.newaxis, :])\n",
    "        alphath_closest_idx = np.argpartition(\n",
    "            dists, kth=self.n_particles_covered - 1, axis=0\n",
    "        )[self.n_particles_covered - 1]\n",
    "\n",
    "        y_dim = y_t.shape[0]\n",
    "        assert alphath_closest_idx.shape == (y_dim,)\n",
    "        return u[alphath_closest_idx, np.arange(y_dim)]\n",
    "\n",
    "\n",
    "def tune_kernel_scales(self, u_alpha, y_t):\n",
    "    # The details are as in your paper and can be found in the `Kernel` class in the `mcmc.py` file.\n",
    "    if isinstance(self.kernel, Kernel):\n",
    "        # Univariate observations -> single kernel.\n",
    "        self.kernel.tune_scale(u=u_alpha, y=y_t)\n",
    "    else:\n",
    "        # Multivariate observations -> one kernel per y-dimension.\n",
    "        for i, kernel in enumerate(self.kernel):\n",
    "            kernel.tune_scale(u=u_alpha[i], y=y_t[i])\n",
    "\n",
    "\n",
    "def evaluate_kernel(self, u, y_t):\n",
    "    if isinstance(self.kernel, Kernel):\n",
    "        # Univariate observations -> single kernel.\n",
    "        return self.kernel(u=u, y=y_t)\n",
    "    else:\n",
    "        # Multivariate observations -> one kernel per y-dimension. Assume independent y-dimensions.\n",
    "        lws = np.array(\n",
    "            [kernel(u=u[:, i], y=y_t[i]) for i, kernel in enumerate(self.kernel)]\n",
    "        )\n",
    "        return np.sum(lws, axis=0)"
   ]
  }
 ],
 "metadata": {
  "kernelspec": {
   "display_name": "Python 3",
   "language": "python",
   "name": "python3"
  },
  "language_info": {
   "codemirror_mode": {
    "name": "ipython",
    "version": 3
   },
   "file_extension": ".py",
   "mimetype": "text/x-python",
   "name": "python",
   "nbconvert_exporter": "python",
   "pygments_lexer": "ipython3",
   "version": "3.7.4"
  }
 },
 "nbformat": 4,
 "nbformat_minor": 4
}
